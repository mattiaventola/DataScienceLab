{
 "cells": [
  {
   "cell_type": "code",
   "execution_count": 3,
   "metadata": {},
   "outputs": [],
   "source": [
    "import pandas as pd\n",
    "from datetime import datetime"
   ]
  },
  {
   "cell_type": "code",
   "execution_count": 4,
   "metadata": {},
   "outputs": [],
   "source": [
    "anno2016 = pd.ExcelFile('Anno 2016.xlsx')\n",
    "anno2016 = pd.read_excel(anno2016, 'Acquisti-Purchases')\n",
    "\n",
    "anno2017 = pd.ExcelFile('Anno 2017.xlsx')\n",
    "anno2017 = pd.read_excel(anno2017, 'Acquisti-Purchases')\n",
    "\n",
    "anno2018 = pd.ExcelFile('Anno 2018_12.xlsx')\n",
    "anno2018 = pd.read_excel(anno2018, 'Acquisti-Purchases')\n",
    "\n",
    "anno2019 = pd.ExcelFile('Anno 2019_12.xlsx')\n",
    "anno2019 = pd.read_excel(anno2019, 'Acquisti-Purchases')\n",
    "\n",
    "anno2020 = pd.ExcelFile('Anno 2020_06.xlsx')\n",
    "anno2020 = pd.read_excel(anno2020, 'Acquisti-Purchases')"
   ]
  },
  {
   "cell_type": "code",
   "execution_count": 5,
   "metadata": {
    "scrolled": false
   },
   "outputs": [
    {
     "name": "stderr",
     "output_type": "stream",
     "text": [
      "C:\\Users\\matti\\Anaconda3..25.02.20\\lib\\site-packages\\ipykernel_launcher.py:1: FutureWarning: Sorting because non-concatenation axis is not aligned. A future version\n",
      "of pandas will change to not sort by default.\n",
      "\n",
      "To accept the future behavior, pass 'sort=False'.\n",
      "\n",
      "To retain the current behavior and silence the warning, pass 'sort=True'.\n",
      "\n",
      "  \"\"\"Entry point for launching an IPython kernel.\n"
     ]
    }
   ],
   "source": [
    "Energy=pd.concat([anno2016, anno2017, anno2018, anno2019, anno2020])"
   ]
  },
  {
   "cell_type": "code",
   "execution_count": 6,
   "metadata": {},
   "outputs": [
    {
     "data": {
      "text/html": [
       "<div>\n",
       "<style scoped>\n",
       "    .dataframe tbody tr th:only-of-type {\n",
       "        vertical-align: middle;\n",
       "    }\n",
       "\n",
       "    .dataframe tbody tr th {\n",
       "        vertical-align: top;\n",
       "    }\n",
       "\n",
       "    .dataframe thead th {\n",
       "        text-align: right;\n",
       "    }\n",
       "</style>\n",
       "<table border=\"1\" class=\"dataframe\">\n",
       "  <thead>\n",
       "    <tr style=\"text-align: right;\">\n",
       "      <th></th>\n",
       "      <th>Data/Date\\n(YYYYMMDD)</th>\n",
       "      <th>AUST</th>\n",
       "      <th>BRNN</th>\n",
       "      <th>BSP</th>\n",
       "      <th>CNOR</th>\n",
       "      <th>COAC</th>\n",
       "      <th>CORS</th>\n",
       "      <th>CSUD</th>\n",
       "      <th>FOGN</th>\n",
       "      <th>FRAN</th>\n",
       "      <th>...</th>\n",
       "      <th>PRGP</th>\n",
       "      <th>ROSN</th>\n",
       "      <th>SARD</th>\n",
       "      <th>SICI</th>\n",
       "      <th>SLOV</th>\n",
       "      <th>SUD</th>\n",
       "      <th>SVIZ</th>\n",
       "      <th>Totale Italia\\n/Total Italy</th>\n",
       "      <th>XAUS</th>\n",
       "      <th>XFRA</th>\n",
       "    </tr>\n",
       "  </thead>\n",
       "  <tbody>\n",
       "    <tr>\n",
       "      <th>0</th>\n",
       "      <td>20160101</td>\n",
       "      <td>0</td>\n",
       "      <td>0.0</td>\n",
       "      <td>0.0</td>\n",
       "      <td>2423.828</td>\n",
       "      <td>98.0</td>\n",
       "      <td>45</td>\n",
       "      <td>4578.424</td>\n",
       "      <td>0.0</td>\n",
       "      <td>0</td>\n",
       "      <td>...</td>\n",
       "      <td>0.0</td>\n",
       "      <td>0</td>\n",
       "      <td>887.501</td>\n",
       "      <td>1796.504</td>\n",
       "      <td>0</td>\n",
       "      <td>2447.066</td>\n",
       "      <td>60.0</td>\n",
       "      <td>24503.560</td>\n",
       "      <td>0.0</td>\n",
       "      <td>0.0</td>\n",
       "    </tr>\n",
       "    <tr>\n",
       "      <th>1</th>\n",
       "      <td>20160101</td>\n",
       "      <td>0</td>\n",
       "      <td>0.0</td>\n",
       "      <td>0.0</td>\n",
       "      <td>2334.768</td>\n",
       "      <td>85.0</td>\n",
       "      <td>45</td>\n",
       "      <td>4444.008</td>\n",
       "      <td>0.0</td>\n",
       "      <td>0</td>\n",
       "      <td>...</td>\n",
       "      <td>0.0</td>\n",
       "      <td>0</td>\n",
       "      <td>874.810</td>\n",
       "      <td>1707.844</td>\n",
       "      <td>0</td>\n",
       "      <td>2357.277</td>\n",
       "      <td>130.0</td>\n",
       "      <td>23167.599</td>\n",
       "      <td>0.0</td>\n",
       "      <td>0.0</td>\n",
       "    </tr>\n",
       "    <tr>\n",
       "      <th>2</th>\n",
       "      <td>20160101</td>\n",
       "      <td>0</td>\n",
       "      <td>0.0</td>\n",
       "      <td>0.0</td>\n",
       "      <td>2098.117</td>\n",
       "      <td>71.0</td>\n",
       "      <td>45</td>\n",
       "      <td>3965.373</td>\n",
       "      <td>0.0</td>\n",
       "      <td>0</td>\n",
       "      <td>...</td>\n",
       "      <td>0.0</td>\n",
       "      <td>0</td>\n",
       "      <td>800.018</td>\n",
       "      <td>1577.842</td>\n",
       "      <td>0</td>\n",
       "      <td>2118.990</td>\n",
       "      <td>90.0</td>\n",
       "      <td>22045.998</td>\n",
       "      <td>0.0</td>\n",
       "      <td>0.0</td>\n",
       "    </tr>\n",
       "    <tr>\n",
       "      <th>3</th>\n",
       "      <td>20160101</td>\n",
       "      <td>0</td>\n",
       "      <td>0.0</td>\n",
       "      <td>0.0</td>\n",
       "      <td>1969.641</td>\n",
       "      <td>63.0</td>\n",
       "      <td>45</td>\n",
       "      <td>3651.617</td>\n",
       "      <td>0.0</td>\n",
       "      <td>0</td>\n",
       "      <td>...</td>\n",
       "      <td>0.0</td>\n",
       "      <td>0</td>\n",
       "      <td>765.147</td>\n",
       "      <td>1404.936</td>\n",
       "      <td>0</td>\n",
       "      <td>2002.176</td>\n",
       "      <td>90.0</td>\n",
       "      <td>20808.194</td>\n",
       "      <td>0.0</td>\n",
       "      <td>0.0</td>\n",
       "    </tr>\n",
       "    <tr>\n",
       "      <th>4</th>\n",
       "      <td>20160101</td>\n",
       "      <td>0</td>\n",
       "      <td>0.0</td>\n",
       "      <td>0.0</td>\n",
       "      <td>1830.797</td>\n",
       "      <td>59.0</td>\n",
       "      <td>45</td>\n",
       "      <td>3300.955</td>\n",
       "      <td>0.0</td>\n",
       "      <td>0</td>\n",
       "      <td>...</td>\n",
       "      <td>0.0</td>\n",
       "      <td>0</td>\n",
       "      <td>696.916</td>\n",
       "      <td>1328.067</td>\n",
       "      <td>0</td>\n",
       "      <td>1858.906</td>\n",
       "      <td>90.0</td>\n",
       "      <td>19860.541</td>\n",
       "      <td>0.0</td>\n",
       "      <td>0.0</td>\n",
       "    </tr>\n",
       "  </tbody>\n",
       "</table>\n",
       "<p>5 rows × 25 columns</p>\n",
       "</div>"
      ],
      "text/plain": [
       "      Data/Date\\n(YYYYMMDD)  AUST  BRNN  BSP      CNOR  COAC  CORS      CSUD  \\\n",
       "0                  20160101     0   0.0  0.0  2423.828  98.0    45  4578.424   \n",
       "1                  20160101     0   0.0  0.0  2334.768  85.0    45  4444.008   \n",
       "2                  20160101     0   0.0  0.0  2098.117  71.0    45  3965.373   \n",
       "3                  20160101     0   0.0  0.0  1969.641  63.0    45  3651.617   \n",
       "4                  20160101     0   0.0  0.0  1830.797  59.0    45  3300.955   \n",
       "\n",
       "   FOGN  FRAN  ...  PRGP  ROSN     SARD      SICI  SLOV       SUD   SVIZ  \\\n",
       "0   0.0     0  ...   0.0     0  887.501  1796.504     0  2447.066   60.0   \n",
       "1   0.0     0  ...   0.0     0  874.810  1707.844     0  2357.277  130.0   \n",
       "2   0.0     0  ...   0.0     0  800.018  1577.842     0  2118.990   90.0   \n",
       "3   0.0     0  ...   0.0     0  765.147  1404.936     0  2002.176   90.0   \n",
       "4   0.0     0  ...   0.0     0  696.916  1328.067     0  1858.906   90.0   \n",
       "\n",
       "   Totale Italia\\n/Total Italy  XAUS  XFRA  \n",
       "0                    24503.560   0.0   0.0  \n",
       "1                    23167.599   0.0   0.0  \n",
       "2                    22045.998   0.0   0.0  \n",
       "3                    20808.194   0.0   0.0  \n",
       "4                    19860.541   0.0   0.0  \n",
       "\n",
       "[5 rows x 25 columns]"
      ]
     },
     "execution_count": 6,
     "metadata": {},
     "output_type": "execute_result"
    }
   ],
   "source": [
    "Energy.head()"
   ]
  },
  {
   "cell_type": "code",
   "execution_count": 7,
   "metadata": {
    "scrolled": true
   },
   "outputs": [],
   "source": [
    "Energy.rename(columns={'   Data/Date\\n(YYYYMMDD)':'date', 'Totale Italia\\n/Total Italy':'Loads', 'Ora\\n/Hour':'hours'}, inplace=True)"
   ]
  },
  {
   "cell_type": "code",
   "execution_count": 8,
   "metadata": {},
   "outputs": [],
   "source": [
    "Energy=Energy[['date','hours','Loads']]"
   ]
  },
  {
   "cell_type": "code",
   "execution_count": 9,
   "metadata": {},
   "outputs": [
    {
     "data": {
      "text/plain": [
       "0        1\n",
       "1        2\n",
       "2        3\n",
       "3        4\n",
       "4        5\n",
       "        ..\n",
       "4362    20\n",
       "4363    21\n",
       "4364    22\n",
       "4365    23\n",
       "4366    24\n",
       "Name: hours, Length: 39431, dtype: int64"
      ]
     },
     "execution_count": 9,
     "metadata": {},
     "output_type": "execute_result"
    }
   ],
   "source": [
    "Energy.hours"
   ]
  },
  {
   "cell_type": "code",
   "execution_count": 10,
   "metadata": {
    "scrolled": false
   },
   "outputs": [
    {
     "data": {
      "text/html": [
       "<div>\n",
       "<style scoped>\n",
       "    .dataframe tbody tr th:only-of-type {\n",
       "        vertical-align: middle;\n",
       "    }\n",
       "\n",
       "    .dataframe tbody tr th {\n",
       "        vertical-align: top;\n",
       "    }\n",
       "\n",
       "    .dataframe thead th {\n",
       "        text-align: right;\n",
       "    }\n",
       "</style>\n",
       "<table border=\"1\" class=\"dataframe\">\n",
       "  <thead>\n",
       "    <tr style=\"text-align: right;\">\n",
       "      <th></th>\n",
       "      <th>date</th>\n",
       "      <th>hours</th>\n",
       "      <th>Loads</th>\n",
       "    </tr>\n",
       "  </thead>\n",
       "  <tbody>\n",
       "    <tr>\n",
       "      <th>7295</th>\n",
       "      <td>20161030</td>\n",
       "      <td>25</td>\n",
       "      <td>24915.296</td>\n",
       "    </tr>\n",
       "    <tr>\n",
       "      <th>7247</th>\n",
       "      <td>20171029</td>\n",
       "      <td>25</td>\n",
       "      <td>25527.511</td>\n",
       "    </tr>\n",
       "    <tr>\n",
       "      <th>7223</th>\n",
       "      <td>20181028</td>\n",
       "      <td>25</td>\n",
       "      <td>25155.371</td>\n",
       "    </tr>\n",
       "    <tr>\n",
       "      <th>7199</th>\n",
       "      <td>20191027</td>\n",
       "      <td>25</td>\n",
       "      <td>24717.912</td>\n",
       "    </tr>\n",
       "  </tbody>\n",
       "</table>\n",
       "</div>"
      ],
      "text/plain": [
       "          date  hours      Loads\n",
       "7295  20161030     25  24915.296\n",
       "7247  20171029     25  25527.511\n",
       "7223  20181028     25  25155.371\n",
       "7199  20191027     25  24717.912"
      ]
     },
     "execution_count": 10,
     "metadata": {},
     "output_type": "execute_result"
    }
   ],
   "source": [
    "Energy[Energy['hours'] == 25]"
   ]
  },
  {
   "cell_type": "code",
   "execution_count": 11,
   "metadata": {},
   "outputs": [
    {
     "data": {
      "text/html": [
       "<div>\n",
       "<style scoped>\n",
       "    .dataframe tbody tr th:only-of-type {\n",
       "        vertical-align: middle;\n",
       "    }\n",
       "\n",
       "    .dataframe tbody tr th {\n",
       "        vertical-align: top;\n",
       "    }\n",
       "\n",
       "    .dataframe thead th {\n",
       "        text-align: right;\n",
       "    }\n",
       "</style>\n",
       "<table border=\"1\" class=\"dataframe\">\n",
       "  <thead>\n",
       "    <tr style=\"text-align: right;\">\n",
       "      <th></th>\n",
       "      <th>date</th>\n",
       "      <th>hours</th>\n",
       "      <th>Loads</th>\n",
       "    </tr>\n",
       "  </thead>\n",
       "  <tbody>\n",
       "    <tr>\n",
       "      <th>0</th>\n",
       "      <td>20160101</td>\n",
       "      <td>1</td>\n",
       "      <td>24503.560</td>\n",
       "    </tr>\n",
       "    <tr>\n",
       "      <th>1</th>\n",
       "      <td>20160101</td>\n",
       "      <td>2</td>\n",
       "      <td>23167.599</td>\n",
       "    </tr>\n",
       "    <tr>\n",
       "      <th>2</th>\n",
       "      <td>20160101</td>\n",
       "      <td>3</td>\n",
       "      <td>22045.998</td>\n",
       "    </tr>\n",
       "    <tr>\n",
       "      <th>3</th>\n",
       "      <td>20160101</td>\n",
       "      <td>4</td>\n",
       "      <td>20808.194</td>\n",
       "    </tr>\n",
       "    <tr>\n",
       "      <th>4</th>\n",
       "      <td>20160101</td>\n",
       "      <td>5</td>\n",
       "      <td>19860.541</td>\n",
       "    </tr>\n",
       "  </tbody>\n",
       "</table>\n",
       "</div>"
      ],
      "text/plain": [
       "       date  hours      Loads\n",
       "0  20160101      1  24503.560\n",
       "1  20160101      2  23167.599\n",
       "2  20160101      3  22045.998\n",
       "3  20160101      4  20808.194\n",
       "4  20160101      5  19860.541"
      ]
     },
     "execution_count": 11,
     "metadata": {},
     "output_type": "execute_result"
    }
   ],
   "source": [
    "Energy = Energy.loc[Energy['hours'] < 25]\n",
    "Energy.head()"
   ]
  },
  {
   "cell_type": "code",
   "execution_count": 12,
   "metadata": {
    "scrolled": true
   },
   "outputs": [],
   "source": [
    "#Energy[Energy['date'] == 20200329]"
   ]
  },
  {
   "cell_type": "code",
   "execution_count": 13,
   "metadata": {
    "scrolled": true
   },
   "outputs": [],
   "source": [
    "Energy.loc[-1] = ['20160327', 24, 23965.215] \n",
    "Energy.index = Energy.index + 1 \n",
    "Energy = Energy.sort_index()  \n",
    "\n",
    "Energy.loc[-1] = ['20170326', 24, 26818.668] \n",
    "Energy.index = Energy.index + 1 \n",
    "Energy = Energy.sort_index() \n",
    "\n",
    "Energy.loc[-1] = ['20180325', 24, 27548.508] \n",
    "Energy.index = Energy.index + 1 \n",
    "Energy = Energy.sort_index()  \n",
    "\n",
    "Energy.loc[-1] = ['20190331', 24, 25615.452] \n",
    "Energy.index = Energy.index + 1 \n",
    "Energy = Energy.sort_index() \n",
    "\n",
    "Energy.loc[-1] = ['20200329', 24, 21825.115] \n",
    "Energy.index = Energy.index + 1 \n",
    "Energy = Energy.sort_index()  "
   ]
  },
  {
   "cell_type": "code",
   "execution_count": 14,
   "metadata": {
    "scrolled": true
   },
   "outputs": [
    {
     "data": {
      "text/html": [
       "<div>\n",
       "<style scoped>\n",
       "    .dataframe tbody tr th:only-of-type {\n",
       "        vertical-align: middle;\n",
       "    }\n",
       "\n",
       "    .dataframe tbody tr th {\n",
       "        vertical-align: top;\n",
       "    }\n",
       "\n",
       "    .dataframe thead th {\n",
       "        text-align: right;\n",
       "    }\n",
       "</style>\n",
       "<table border=\"1\" class=\"dataframe\">\n",
       "  <thead>\n",
       "    <tr style=\"text-align: right;\">\n",
       "      <th></th>\n",
       "      <th>date</th>\n",
       "      <th>hours</th>\n",
       "      <th>Loads</th>\n",
       "    </tr>\n",
       "  </thead>\n",
       "  <tbody>\n",
       "    <tr>\n",
       "      <th>0</th>\n",
       "      <td>20200329</td>\n",
       "      <td>24</td>\n",
       "      <td>21825.115</td>\n",
       "    </tr>\n",
       "    <tr>\n",
       "      <th>1</th>\n",
       "      <td>20190331</td>\n",
       "      <td>24</td>\n",
       "      <td>25615.452</td>\n",
       "    </tr>\n",
       "    <tr>\n",
       "      <th>2</th>\n",
       "      <td>20180325</td>\n",
       "      <td>24</td>\n",
       "      <td>27548.508</td>\n",
       "    </tr>\n",
       "    <tr>\n",
       "      <th>3</th>\n",
       "      <td>20170326</td>\n",
       "      <td>24</td>\n",
       "      <td>26818.668</td>\n",
       "    </tr>\n",
       "    <tr>\n",
       "      <th>4</th>\n",
       "      <td>20160327</td>\n",
       "      <td>24</td>\n",
       "      <td>23965.215</td>\n",
       "    </tr>\n",
       "    <tr>\n",
       "      <th>...</th>\n",
       "      <td>...</td>\n",
       "      <td>...</td>\n",
       "      <td>...</td>\n",
       "    </tr>\n",
       "    <tr>\n",
       "      <th>8784</th>\n",
       "      <td>20161231</td>\n",
       "      <td>20</td>\n",
       "      <td>35847.174</td>\n",
       "    </tr>\n",
       "    <tr>\n",
       "      <th>8785</th>\n",
       "      <td>20161231</td>\n",
       "      <td>21</td>\n",
       "      <td>33920.393</td>\n",
       "    </tr>\n",
       "    <tr>\n",
       "      <th>8786</th>\n",
       "      <td>20161231</td>\n",
       "      <td>22</td>\n",
       "      <td>31358.387</td>\n",
       "    </tr>\n",
       "    <tr>\n",
       "      <th>8787</th>\n",
       "      <td>20161231</td>\n",
       "      <td>23</td>\n",
       "      <td>29280.169</td>\n",
       "    </tr>\n",
       "    <tr>\n",
       "      <th>8788</th>\n",
       "      <td>20161231</td>\n",
       "      <td>24</td>\n",
       "      <td>27346.224</td>\n",
       "    </tr>\n",
       "  </tbody>\n",
       "</table>\n",
       "<p>39432 rows × 3 columns</p>\n",
       "</div>"
      ],
      "text/plain": [
       "          date  hours      Loads\n",
       "0     20200329     24  21825.115\n",
       "1     20190331     24  25615.452\n",
       "2     20180325     24  27548.508\n",
       "3     20170326     24  26818.668\n",
       "4     20160327     24  23965.215\n",
       "...        ...    ...        ...\n",
       "8784  20161231     20  35847.174\n",
       "8785  20161231     21  33920.393\n",
       "8786  20161231     22  31358.387\n",
       "8787  20161231     23  29280.169\n",
       "8788  20161231     24  27346.224\n",
       "\n",
       "[39432 rows x 3 columns]"
      ]
     },
     "execution_count": 14,
     "metadata": {},
     "output_type": "execute_result"
    }
   ],
   "source": [
    "Energy"
   ]
  },
  {
   "cell_type": "code",
   "execution_count": 15,
   "metadata": {},
   "outputs": [
    {
     "data": {
      "text/plain": [
       "0       24\n",
       "1       24\n",
       "2       24\n",
       "3       24\n",
       "4       24\n",
       "        ..\n",
       "8784    20\n",
       "8785    21\n",
       "8786    22\n",
       "8787    23\n",
       "8788    24\n",
       "Name: hours, Length: 39432, dtype: int64"
      ]
     },
     "execution_count": 15,
     "metadata": {},
     "output_type": "execute_result"
    }
   ],
   "source": [
    "Energy.hours"
   ]
  },
  {
   "cell_type": "code",
   "execution_count": null,
   "metadata": {},
   "outputs": [],
   "source": []
  },
  {
   "cell_type": "code",
   "execution_count": null,
   "metadata": {},
   "outputs": [],
   "source": []
  },
  {
   "cell_type": "code",
   "execution_count": 16,
   "metadata": {},
   "outputs": [],
   "source": [
    "Energy[\"date\"] = pd.to_datetime(Energy[\"date\"],format='%Y%m%d')"
   ]
  },
  {
   "cell_type": "code",
   "execution_count": 17,
   "metadata": {
    "scrolled": true
   },
   "outputs": [],
   "source": [
    "Energy['date'] = pd.to_datetime(Energy['date']) + pd.to_timedelta(Energy['hours'], unit='h')"
   ]
  },
  {
   "cell_type": "code",
   "execution_count": 18,
   "metadata": {},
   "outputs": [],
   "source": [
    "Energy=Energy[['date','Loads']]"
   ]
  },
  {
   "cell_type": "code",
   "execution_count": 23,
   "metadata": {},
   "outputs": [],
   "source": [
    "Energy=Energy.sort_values(by='date')"
   ]
  },
  {
   "cell_type": "code",
   "execution_count": 24,
   "metadata": {
    "scrolled": false
   },
   "outputs": [
    {
     "data": {
      "text/html": [
       "<div>\n",
       "<style scoped>\n",
       "    .dataframe tbody tr th:only-of-type {\n",
       "        vertical-align: middle;\n",
       "    }\n",
       "\n",
       "    .dataframe tbody tr th {\n",
       "        vertical-align: top;\n",
       "    }\n",
       "\n",
       "    .dataframe thead th {\n",
       "        text-align: right;\n",
       "    }\n",
       "</style>\n",
       "<table border=\"1\" class=\"dataframe\">\n",
       "  <thead>\n",
       "    <tr style=\"text-align: right;\">\n",
       "      <th></th>\n",
       "      <th>date</th>\n",
       "      <th>Loads</th>\n",
       "    </tr>\n",
       "  </thead>\n",
       "  <tbody>\n",
       "    <tr>\n",
       "      <th>5</th>\n",
       "      <td>2016-01-01 01:00:00</td>\n",
       "      <td>24503.560</td>\n",
       "    </tr>\n",
       "    <tr>\n",
       "      <th>6</th>\n",
       "      <td>2016-01-01 02:00:00</td>\n",
       "      <td>23167.599</td>\n",
       "    </tr>\n",
       "    <tr>\n",
       "      <th>7</th>\n",
       "      <td>2016-01-01 03:00:00</td>\n",
       "      <td>22045.998</td>\n",
       "    </tr>\n",
       "    <tr>\n",
       "      <th>8</th>\n",
       "      <td>2016-01-01 04:00:00</td>\n",
       "      <td>20808.194</td>\n",
       "    </tr>\n",
       "    <tr>\n",
       "      <th>9</th>\n",
       "      <td>2016-01-01 05:00:00</td>\n",
       "      <td>19860.541</td>\n",
       "    </tr>\n",
       "    <tr>\n",
       "      <th>...</th>\n",
       "      <td>...</td>\n",
       "      <td>...</td>\n",
       "    </tr>\n",
       "    <tr>\n",
       "      <th>4367</th>\n",
       "      <td>2020-06-30 20:00:00</td>\n",
       "      <td>39911.282</td>\n",
       "    </tr>\n",
       "    <tr>\n",
       "      <th>4368</th>\n",
       "      <td>2020-06-30 21:00:00</td>\n",
       "      <td>39298.059</td>\n",
       "    </tr>\n",
       "    <tr>\n",
       "      <th>4369</th>\n",
       "      <td>2020-06-30 22:00:00</td>\n",
       "      <td>38792.129</td>\n",
       "    </tr>\n",
       "    <tr>\n",
       "      <th>4370</th>\n",
       "      <td>2020-06-30 23:00:00</td>\n",
       "      <td>37147.105</td>\n",
       "    </tr>\n",
       "    <tr>\n",
       "      <th>4371</th>\n",
       "      <td>2020-07-01 00:00:00</td>\n",
       "      <td>34435.210</td>\n",
       "    </tr>\n",
       "  </tbody>\n",
       "</table>\n",
       "<p>39432 rows × 2 columns</p>\n",
       "</div>"
      ],
      "text/plain": [
       "                    date      Loads\n",
       "5    2016-01-01 01:00:00  24503.560\n",
       "6    2016-01-01 02:00:00  23167.599\n",
       "7    2016-01-01 03:00:00  22045.998\n",
       "8    2016-01-01 04:00:00  20808.194\n",
       "9    2016-01-01 05:00:00  19860.541\n",
       "...                  ...        ...\n",
       "4367 2020-06-30 20:00:00  39911.282\n",
       "4368 2020-06-30 21:00:00  39298.059\n",
       "4369 2020-06-30 22:00:00  38792.129\n",
       "4370 2020-06-30 23:00:00  37147.105\n",
       "4371 2020-07-01 00:00:00  34435.210\n",
       "\n",
       "[39432 rows x 2 columns]"
      ]
     },
     "execution_count": 24,
     "metadata": {},
     "output_type": "execute_result"
    }
   ],
   "source": [
    "Energy"
   ]
  },
  {
   "cell_type": "code",
   "execution_count": 26,
   "metadata": {},
   "outputs": [],
   "source": [
    "Energy.to_excel(r'loads16_20.xlsx', index = False)"
   ]
  },
  {
   "cell_type": "code",
   "execution_count": null,
   "metadata": {},
   "outputs": [],
   "source": []
  }
 ],
 "metadata": {
  "kernelspec": {
   "display_name": "Python 3",
   "language": "python",
   "name": "python3"
  },
  "language_info": {
   "codemirror_mode": {
    "name": "ipython",
    "version": 3
   },
   "file_extension": ".py",
   "mimetype": "text/x-python",
   "name": "python",
   "nbconvert_exporter": "python",
   "pygments_lexer": "ipython3",
   "version": "3.7.4"
  }
 },
 "nbformat": 4,
 "nbformat_minor": 2
}
